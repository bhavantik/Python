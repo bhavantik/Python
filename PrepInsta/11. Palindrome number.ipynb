{
 "cells": [
  {
   "cell_type": "markdown",
   "metadata": {},
   "source": [
    "# Palindrome number\n",
    "A palindrome number is a number that is given the same number after reverse.  \n",
    "A number is 123321 .If you read number “123321” from reverse order, it is same as “123321”. In that  number is a palindrome. "
   ]
  },
  {
   "cell_type": "markdown",
   "metadata": {},
   "source": [
    "## Method 1"
   ]
  },
  {
   "cell_type": "code",
   "execution_count": 35,
   "metadata": {},
   "outputs": [
    {
     "name": "stdout",
     "output_type": "stream",
     "text": [
      "12521\n"
     ]
    }
   ],
   "source": [
    "n = [int(d) for d in input()]"
   ]
  },
  {
   "cell_type": "code",
   "execution_count": 36,
   "metadata": {},
   "outputs": [
    {
     "name": "stdout",
     "output_type": "stream",
     "text": [
      "number is pellindrome\n"
     ]
    }
   ],
   "source": [
    "l=len(n)\n",
    "for i in range(l//2):\n",
    "    if n[i] != n[l-i-1]:\n",
    "        print('number is not pellindrome')\n",
    "        break   \n",
    "else:\n",
    "    print(\"number is pellindrome\")\n"
   ]
  },
  {
   "cell_type": "markdown",
   "metadata": {},
   "source": [
    "## Method 2"
   ]
  },
  {
   "cell_type": "code",
   "execution_count": 37,
   "metadata": {},
   "outputs": [
    {
     "name": "stdout",
     "output_type": "stream",
     "text": [
      "Enter the Number:125521\n",
      "Given number 125521 is Palindrome\n"
     ]
    }
   ],
   "source": [
    "number = int(input(\"Enter the Number:\"))\n",
    "temp = number\n",
    "reverse = 0\n",
    "while number > 0:\n",
    "    remainder = number % 10\n",
    "    reverse = (reverse * 10) + remainder\n",
    "    number = number // 10\n",
    "\n",
    "if temp == reverse:\n",
    "    print(\"Given number {} is Palindrome\".format(temp))\n",
    "else:\n",
    "    print(\"Given number {} is not Palindrome\".format(temp))"
   ]
  },
  {
   "cell_type": "markdown",
   "metadata": {},
   "source": []
  }
 ],
 "metadata": {
  "kernelspec": {
   "display_name": "Python 3",
   "language": "python",
   "name": "python3"
  },
  "language_info": {
   "codemirror_mode": {
    "name": "ipython",
    "version": 3
   },
   "file_extension": ".py",
   "mimetype": "text/x-python",
   "name": "python",
   "nbconvert_exporter": "python",
   "pygments_lexer": "ipython3",
   "version": "3.7.3"
  }
 },
 "nbformat": 4,
 "nbformat_minor": 2
}
