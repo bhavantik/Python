{
 "cells": [
  {
   "cell_type": "markdown",
   "metadata": {},
   "source": [
    "# Prime number\n",
    "Prime number is a number which can be divided by 1 and itself  \n",
    "A number which can not be divided by any other number other than 1 or itself is a prime number.  \n",
    "It should have only 2 factors. They are, 1 and the number itself."
   ]
  },
  {
   "cell_type": "markdown",
   "metadata": {},
   "source": [
    "## Method 1"
   ]
  },
  {
   "cell_type": "markdown",
   "metadata": {},
   "source": [
    "Step 1. Start\n",
    "\n",
    "Step 2. Take a user input for “num” variable.\n",
    "\n",
    "Step 3. We use a for loop starting from 2 to (num//2).\n",
    "\n",
    "Step 4. Inside for loop, we will check whether (num % i == 0) condition is satisfied or not.\n",
    "\n",
    "Step 5. If condition is true, then print, “Not a Prime Number”\n",
    "\n",
    "Step 6. If it is false and break the for loop, then print, “It is a Prime number.”\n",
    "\n",
    "Step 7. Stop"
   ]
  },
  {
   "cell_type": "code",
   "execution_count": 21,
   "metadata": {},
   "outputs": [
    {
     "name": "stdout",
     "output_type": "stream",
     "text": [
      "17\n"
     ]
    }
   ],
   "source": [
    "num = int(input())"
   ]
  },
  {
   "cell_type": "code",
   "execution_count": 22,
   "metadata": {},
   "outputs": [
    {
     "name": "stdout",
     "output_type": "stream",
     "text": [
      "Given is prime number\n"
     ]
    }
   ],
   "source": [
    "if num>1:\n",
    "    for i in range(2,num):\n",
    "        if num%i==0:\n",
    "            print(\"Given is not prime number\",i)\n",
    "            break\n",
    "    else:\n",
    "            print(\"Given is prime number\") \n",
    "            \n",
    "else:\n",
    "    print(\"Given is not a prime number(1 undefined)\") "
   ]
  },
  {
   "cell_type": "markdown",
   "metadata": {},
   "source": [
    "## Method 2\n",
    "Time saving "
   ]
  },
  {
   "cell_type": "code",
   "execution_count": 25,
   "metadata": {},
   "outputs": [
    {
     "name": "stdout",
     "output_type": "stream",
     "text": [
      "12\n",
      "Given is not prime number 2\n"
     ]
    }
   ],
   "source": [
    "num = int(input())\n",
    "if num>1:\n",
    "    for i in range(2,num//2):\n",
    "        if num%i==0:\n",
    "            print(\"Given is not prime number\")\n",
    "            break\n",
    "    else:\n",
    "            print(\"Given is prime number\") \n",
    "            \n",
    "else:\n",
    "    print(\"Given is not a prime number(1 undefined)\") "
   ]
  }
 ],
 "metadata": {
  "kernelspec": {
   "display_name": "Python 3",
   "language": "python",
   "name": "python3"
  },
  "language_info": {
   "codemirror_mode": {
    "name": "ipython",
    "version": 3
   },
   "file_extension": ".py",
   "mimetype": "text/x-python",
   "name": "python",
   "nbconvert_exporter": "python",
   "pygments_lexer": "ipython3",
   "version": "3.7.3"
  }
 },
 "nbformat": 4,
 "nbformat_minor": 2
}
