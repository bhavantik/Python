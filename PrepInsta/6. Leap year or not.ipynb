{
 "cells": [
  {
   "cell_type": "markdown",
   "metadata": {},
   "source": [
    "# Leap year or not"
   ]
  },
  {
   "cell_type": "markdown",
   "metadata": {},
   "source": [
    "## Method 1"
   ]
  },
  {
   "cell_type": "markdown",
   "metadata": {},
   "source": [
    "Working:\n",
    "Step 1. Enter a value for Year variable.\n",
    "\n",
    "Step 2. For checking Leap Year, this condition should be satisfied. If a Year is divisible by 4 and having no remainder. Then we will go to next step. If a year is divisible by 4, but not by 100. If a year is divisible by 100, but not by 400.\n",
    "\n",
    "Step 3. If Condition is true then print, “Yes, {Year} is Leap Year”\n",
    "\n",
    "Step 4. It is false then print, “No, {year} is not a Leap Year”.\n",
    "\n",
    "Step 5. Stop."
   ]
  },
  {
   "cell_type": "code",
   "execution_count": 21,
   "metadata": {},
   "outputs": [
    {
     "name": "stdout",
     "output_type": "stream",
     "text": [
      "Enter a Year: 1720\n"
     ]
    }
   ],
   "source": [
    "year = int(input(\"Enter a Year: \"))"
   ]
  },
  {
   "cell_type": "code",
   "execution_count": 22,
   "metadata": {},
   "outputs": [
    {
     "name": "stdout",
     "output_type": "stream",
     "text": [
      "1720  is Leap Year\n"
     ]
    }
   ],
   "source": [
    "if year%4 == 0:\n",
    "    if year%100==0 and year%400 !=0:\n",
    "        print(year,\" is not a Leap Year\")\n",
    "    else:\n",
    "        print(year,\" is Leap Year\")\n",
    "else:\n",
    "    print(year,\" is not a Leap Year\")"
   ]
  },
  {
   "cell_type": "markdown",
   "metadata": {},
   "source": [
    "## Method 2"
   ]
  },
  {
   "cell_type": "code",
   "execution_count": 26,
   "metadata": {},
   "outputs": [
    {
     "name": "stdout",
     "output_type": "stream",
     "text": [
      "Enter a Year: 2000\n",
      "2000 is a leap year\n"
     ]
    }
   ],
   "source": [
    "year = int(input(\"Enter a Year: \"))\n",
    "\n",
    "\n",
    "if (year % 4) == 0:\n",
    "   if (year % 100) == 0:\n",
    "       if (year % 400) == 0:\n",
    "           print(\"{0} is a leap year\".format(year))\n",
    "       else:\n",
    "           print(\"{0} is not a leap year\".format(year))\n",
    "   else:\n",
    "       print(\"{0} is a leap year\".format(year))\n",
    "else:\n",
    "   print(\"{0} is not a leap year\".format(year))"
   ]
  },
  {
   "cell_type": "code",
   "execution_count": null,
   "metadata": {},
   "outputs": [],
   "source": []
  }
 ],
 "metadata": {
  "kernelspec": {
   "display_name": "Python 3",
   "language": "python",
   "name": "python3"
  },
  "language_info": {
   "codemirror_mode": {
    "name": "ipython",
    "version": 3
   },
   "file_extension": ".py",
   "mimetype": "text/x-python",
   "name": "python",
   "nbconvert_exporter": "python",
   "pygments_lexer": "ipython3",
   "version": "3.7.3"
  }
 },
 "nbformat": 4,
 "nbformat_minor": 2
}
